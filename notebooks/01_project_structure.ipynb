{
 "cells": [
  {
   "cell_type": "markdown",
   "id": "02f987ff",
   "metadata": {},
   "source": [
    "# Problem 1. Project structure \n",
    "\n",
    "Miroslav Dzhokanov, 2025\n",
    "\n",
    "\n",
    "## Project structure\n",
    "```\n",
    "- data\n",
    "\n",
    "- notebooks\n",
    "\n",
    "- src\n",
    "\n",
    "- test\n",
    "\n",
    "```\n",
    "\n",
    "## Version control\n",
    "A github repo was created:\n",
    "* [https://github.com/dzhokn/data-science-project-architecture](https://github.com/dzhokn/data-science-project-architecture)\n"
   ]
  }
 ],
 "metadata": {
  "language_info": {
   "name": "python"
  }
 },
 "nbformat": 4,
 "nbformat_minor": 5
}
