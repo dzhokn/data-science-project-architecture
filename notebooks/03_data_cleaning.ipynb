{
 "cells": [
  {
   "cell_type": "code",
   "execution_count": 1,
   "id": "e9eed4ac",
   "metadata": {},
   "outputs": [],
   "source": [
    "# Load local libraries\n",
    "import __load_libs\n",
    "from src.df_io import from_csv, to_csv\n",
    "from src.df_stats import get_outliers_iqr\n",
    "\n",
    "import matplotlib.pyplot as plt"
   ]
  },
  {
   "cell_type": "markdown",
   "id": "237b5a51",
   "metadata": {},
   "source": [
    "# Problem 3. Data cleaning and preprocessing\n",
    "\n",
    "Load the last state of the data."
   ]
  },
  {
   "cell_type": "code",
   "execution_count": 2,
   "id": "246a46b0",
   "metadata": {},
   "outputs": [
    {
     "data": {
      "text/html": [
       "<div>\n",
       "<style scoped>\n",
       "    .dataframe tbody tr th:only-of-type {\n",
       "        vertical-align: middle;\n",
       "    }\n",
       "\n",
       "    .dataframe tbody tr th {\n",
       "        vertical-align: top;\n",
       "    }\n",
       "\n",
       "    .dataframe thead th {\n",
       "        text-align: right;\n",
       "    }\n",
       "</style>\n",
       "<table border=\"1\" class=\"dataframe\">\n",
       "  <thead>\n",
       "    <tr style=\"text-align: right;\">\n",
       "      <th></th>\n",
       "      <th>patient_id</th>\n",
       "      <th>age</th>\n",
       "      <th>gender</th>\n",
       "      <th>ethnicity</th>\n",
       "      <th>education_level</th>\n",
       "      <th>bmi</th>\n",
       "      <th>smoking</th>\n",
       "      <th>physical_activity</th>\n",
       "      <th>diet_quality</th>\n",
       "      <th>sleep_quality</th>\n",
       "      <th>...</th>\n",
       "      <th>lung_function_fvc</th>\n",
       "      <th>wheezing</th>\n",
       "      <th>shortness_of_breath</th>\n",
       "      <th>chest_tightness</th>\n",
       "      <th>coughing</th>\n",
       "      <th>nighttime_symptoms</th>\n",
       "      <th>exercise_induced</th>\n",
       "      <th>diagnosis</th>\n",
       "      <th>doctor_in_charge</th>\n",
       "      <th>fev1_fvc_ratio</th>\n",
       "    </tr>\n",
       "  </thead>\n",
       "  <tbody>\n",
       "    <tr>\n",
       "      <th>0</th>\n",
       "      <td>5034</td>\n",
       "      <td>63</td>\n",
       "      <td>0</td>\n",
       "      <td>1</td>\n",
       "      <td>0</td>\n",
       "      <td>15.848744</td>\n",
       "      <td>0</td>\n",
       "      <td>0.8944483090233335</td>\n",
       "      <td>5.488695584993768</td>\n",
       "      <td>8.701002733591553</td>\n",
       "      <td>...</td>\n",
       "      <td>4.941206</td>\n",
       "      <td>0</td>\n",
       "      <td>0</td>\n",
       "      <td>1</td>\n",
       "      <td>0</td>\n",
       "      <td>0</td>\n",
       "      <td>1</td>\n",
       "      <td>0</td>\n",
       "      <td>Dr_Confid</td>\n",
       "      <td>0.277068</td>\n",
       "    </tr>\n",
       "    <tr>\n",
       "      <th>1</th>\n",
       "      <td>5035</td>\n",
       "      <td>26</td>\n",
       "      <td>1</td>\n",
       "      <td>2</td>\n",
       "      <td>2</td>\n",
       "      <td>22.757042</td>\n",
       "      <td>0</td>\n",
       "      <td>5.897329493528446</td>\n",
       "      <td>6.341014020966575</td>\n",
       "      <td>5.153966369546168</td>\n",
       "      <td>...</td>\n",
       "      <td>1.702393</td>\n",
       "      <td>1</td>\n",
       "      <td>0</td>\n",
       "      <td>0</td>\n",
       "      <td>1</td>\n",
       "      <td>1</td>\n",
       "      <td>1</td>\n",
       "      <td>0</td>\n",
       "      <td>Dr_Confid</td>\n",
       "      <td>1.290987</td>\n",
       "    </tr>\n",
       "    <tr>\n",
       "      <th>2</th>\n",
       "      <td>5036</td>\n",
       "      <td>57</td>\n",
       "      <td>0</td>\n",
       "      <td>2</td>\n",
       "      <td>1</td>\n",
       "      <td>18.395396</td>\n",
       "      <td>0</td>\n",
       "      <td>6.739367010951074</td>\n",
       "      <td>9.196237204622909</td>\n",
       "      <td>6.840646602827763</td>\n",
       "      <td>...</td>\n",
       "      <td>5.022553</td>\n",
       "      <td>1</td>\n",
       "      <td>1</td>\n",
       "      <td>1</td>\n",
       "      <td>0</td>\n",
       "      <td>1</td>\n",
       "      <td>1</td>\n",
       "      <td>0</td>\n",
       "      <td>Dr_Confid</td>\n",
       "      <td>0.338077</td>\n",
       "    </tr>\n",
       "    <tr>\n",
       "      <th>3</th>\n",
       "      <td>5037</td>\n",
       "      <td>40</td>\n",
       "      <td>1</td>\n",
       "      <td>2</td>\n",
       "      <td>1</td>\n",
       "      <td>38.515278</td>\n",
       "      <td>0</td>\n",
       "      <td>1.4045026784207648</td>\n",
       "      <td>5.826531797560653</td>\n",
       "      <td>4.25303551230768</td>\n",
       "      <td>...</td>\n",
       "      <td>2.300159</td>\n",
       "      <td>1</td>\n",
       "      <td>0</td>\n",
       "      <td>1</td>\n",
       "      <td>1</td>\n",
       "      <td>1</td>\n",
       "      <td>0</td>\n",
       "      <td>0</td>\n",
       "      <td>Dr_Confid</td>\n",
       "      <td>1.318186</td>\n",
       "    </tr>\n",
       "    <tr>\n",
       "      <th>4</th>\n",
       "      <td>5038</td>\n",
       "      <td>61</td>\n",
       "      <td>0</td>\n",
       "      <td>0</td>\n",
       "      <td>3</td>\n",
       "      <td>19.283802</td>\n",
       "      <td>0</td>\n",
       "      <td>4.6044926148128855</td>\n",
       "      <td>3.127048193671432</td>\n",
       "      <td>9.625799205296698</td>\n",
       "      <td>...</td>\n",
       "      <td>3.067944</td>\n",
       "      <td>1</td>\n",
       "      <td>1</td>\n",
       "      <td>1</td>\n",
       "      <td>0</td>\n",
       "      <td>0</td>\n",
       "      <td>1</td>\n",
       "      <td>0</td>\n",
       "      <td>Dr_Confid</td>\n",
       "      <td>1.131243</td>\n",
       "    </tr>\n",
       "  </tbody>\n",
       "</table>\n",
       "<p>5 rows × 30 columns</p>\n",
       "</div>"
      ],
      "text/plain": [
       "   patient_id  age gender ethnicity education_level        bmi smoking  \\\n",
       "0        5034   63      0         1               0  15.848744       0   \n",
       "1        5035   26      1         2               2  22.757042       0   \n",
       "2        5036   57      0         2               1  18.395396       0   \n",
       "3        5037   40      1         2               1  38.515278       0   \n",
       "4        5038   61      0         0               3  19.283802       0   \n",
       "\n",
       "    physical_activity       diet_quality      sleep_quality  ...  \\\n",
       "0  0.8944483090233335  5.488695584993768  8.701002733591553  ...   \n",
       "1   5.897329493528446  6.341014020966575  5.153966369546168  ...   \n",
       "2   6.739367010951074  9.196237204622909  6.840646602827763  ...   \n",
       "3  1.4045026784207648  5.826531797560653   4.25303551230768  ...   \n",
       "4  4.6044926148128855  3.127048193671432  9.625799205296698  ...   \n",
       "\n",
       "  lung_function_fvc wheezing shortness_of_breath chest_tightness coughing  \\\n",
       "0          4.941206        0                   0               1        0   \n",
       "1          1.702393        1                   0               0        1   \n",
       "2          5.022553        1                   1               1        0   \n",
       "3          2.300159        1                   0               1        1   \n",
       "4          3.067944        1                   1               1        0   \n",
       "\n",
       "  nighttime_symptoms exercise_induced diagnosis doctor_in_charge  \\\n",
       "0                  0                1         0        Dr_Confid   \n",
       "1                  1                1         0        Dr_Confid   \n",
       "2                  1                1         0        Dr_Confid   \n",
       "3                  1                0         0        Dr_Confid   \n",
       "4                  0                1         0        Dr_Confid   \n",
       "\n",
       "   fev1_fvc_ratio  \n",
       "0        0.277068  \n",
       "1        1.290987  \n",
       "2        0.338077  \n",
       "3        1.318186  \n",
       "4        1.131243  \n",
       "\n",
       "[5 rows x 30 columns]"
      ]
     },
     "execution_count": 2,
     "metadata": {},
     "output_type": "execute_result"
    }
   ],
   "source": [
    "patients_df = from_csv('../data/02_data_explored.csv')\n",
    "patients_df.head()"
   ]
  },
  {
   "cell_type": "code",
   "execution_count": 3,
   "id": "068059a7",
   "metadata": {},
   "outputs": [
    {
     "data": {
      "text/plain": [
       "patient_id                    int64\n",
       "age                           int64\n",
       "gender                     category\n",
       "ethnicity                  category\n",
       "education_level            category\n",
       "bmi                         float64\n",
       "smoking                    category\n",
       "physical_activity          category\n",
       "diet_quality               category\n",
       "sleep_quality              category\n",
       "pollution_exposure         category\n",
       "pollen_exposure            category\n",
       "dust_exposure              category\n",
       "pet_allergy                category\n",
       "family_history_asthma      category\n",
       "history_of_allergies       category\n",
       "eczema                     category\n",
       "hay_fever                  category\n",
       "gastroesophageal_reflux    category\n",
       "lung_function_fev1          float64\n",
       "lung_function_fvc           float64\n",
       "wheezing                   category\n",
       "shortness_of_breath        category\n",
       "chest_tightness            category\n",
       "coughing                   category\n",
       "nighttime_symptoms         category\n",
       "exercise_induced           category\n",
       "diagnosis                  category\n",
       "doctor_in_charge             object\n",
       "fev1_fvc_ratio              float64\n",
       "dtype: object"
      ]
     },
     "execution_count": 3,
     "metadata": {},
     "output_type": "execute_result"
    }
   ],
   "source": [
    "patients_df.dtypes"
   ]
  },
  {
   "cell_type": "markdown",
   "id": "4a4e4c68",
   "metadata": {},
   "source": [
    "## NA values\n",
    "\n",
    "Let's check for NA values."
   ]
  },
  {
   "cell_type": "code",
   "execution_count": 4,
   "id": "ac886f6a",
   "metadata": {},
   "outputs": [
    {
     "data": {
      "text/plain": [
       "patient_id                 0\n",
       "age                        0\n",
       "gender                     0\n",
       "ethnicity                  0\n",
       "education_level            0\n",
       "bmi                        0\n",
       "smoking                    0\n",
       "physical_activity          0\n",
       "diet_quality               0\n",
       "sleep_quality              0\n",
       "pollution_exposure         0\n",
       "pollen_exposure            0\n",
       "dust_exposure              0\n",
       "pet_allergy                0\n",
       "family_history_asthma      0\n",
       "history_of_allergies       0\n",
       "eczema                     0\n",
       "hay_fever                  0\n",
       "gastroesophageal_reflux    0\n",
       "lung_function_fev1         0\n",
       "lung_function_fvc          0\n",
       "wheezing                   0\n",
       "shortness_of_breath        0\n",
       "chest_tightness            0\n",
       "coughing                   0\n",
       "nighttime_symptoms         0\n",
       "exercise_induced           0\n",
       "diagnosis                  0\n",
       "doctor_in_charge           0\n",
       "fev1_fvc_ratio             0\n",
       "dtype: int64"
      ]
     },
     "execution_count": 4,
     "metadata": {},
     "output_type": "execute_result"
    }
   ],
   "source": [
    "patients_df.isna().sum()"
   ]
  },
  {
   "cell_type": "markdown",
   "id": "113b1308",
   "metadata": {},
   "source": [
    "* **OBSERVATION**: No NA values observed in the dataset. That's great!"
   ]
  },
  {
   "cell_type": "markdown",
   "id": "43b22aa5",
   "metadata": {},
   "source": [
    "## Duplicated values\n",
    "Let's check for duplicated rows."
   ]
  },
  {
   "cell_type": "code",
   "execution_count": 5,
   "id": "5d70b66d",
   "metadata": {},
   "outputs": [
    {
     "data": {
      "text/plain": [
       "np.int64(0)"
      ]
     },
     "execution_count": 5,
     "metadata": {},
     "output_type": "execute_result"
    }
   ],
   "source": [
    "patients_df.duplicated().sum()"
   ]
  },
  {
   "cell_type": "markdown",
   "id": "cb713bdb",
   "metadata": {},
   "source": [
    "* **OBSERVATION**: No duplicates. That's good."
   ]
  },
  {
   "cell_type": "markdown",
   "id": "b3d8f997",
   "metadata": {},
   "source": [
    "## Drop `doctor_in_charge`\n",
    "\n",
    "* **OBSERVATION**: Column `doctor_in_charge` does not look to bring any value. It has a **single** value. Furthermore, that value is `Dr_Confid` (i.e. anonymized). \n",
    "\n",
    "Let's drop it."
   ]
  },
  {
   "cell_type": "code",
   "execution_count": 6,
   "id": "f0d94d25",
   "metadata": {},
   "outputs": [],
   "source": [
    "patients_df = patients_df.drop(columns=['doctor_in_charge'])"
   ]
  },
  {
   "cell_type": "markdown",
   "id": "bce7985e",
   "metadata": {},
   "source": [
    "## Drop `patient_id`"
   ]
  },
  {
   "cell_type": "code",
   "execution_count": 7,
   "id": "81583d6a",
   "metadata": {},
   "outputs": [
    {
     "data": {
      "text/plain": [
       "2392"
      ]
     },
     "execution_count": 7,
     "metadata": {},
     "output_type": "execute_result"
    }
   ],
   "source": [
    "patients_df.patient_id.nunique()"
   ]
  },
  {
   "cell_type": "markdown",
   "id": "eccbc082",
   "metadata": {},
   "source": [
    "* **OBSERVATION**: `patient_id` identifier covers all values between $5034$ and $7425$. Hmm, what about values below $5034$? Or above $7425$?\n",
    "* **ACTION**: I tried to find related data (e.g. more patients). Unfortunately, I wasn't able to find such.\n",
    "\n",
    "So, I see no point in keeping this identifier further. It will not be needed for training a prediction model."
   ]
  },
  {
   "cell_type": "code",
   "execution_count": 8,
   "id": "90582148",
   "metadata": {},
   "outputs": [],
   "source": [
    "patients_df = patients_df.drop(columns=['patient_id'])"
   ]
  },
  {
   "cell_type": "markdown",
   "id": "1092e782",
   "metadata": {},
   "source": [
    "## Outliers\n",
    "\n",
    "Look for outliers in all `float` columns."
   ]
  },
  {
   "cell_type": "code",
   "execution_count": 9,
   "id": "e8784ddd",
   "metadata": {},
   "outputs": [
    {
     "data": {
      "text/plain": [
       "(0, 28)"
      ]
     },
     "execution_count": 9,
     "metadata": {},
     "output_type": "execute_result"
    }
   ],
   "source": [
    "bmi_outliers = get_outliers_iqr(patients_df, 'bmi')\n",
    "bmi_outliers.shape"
   ]
  },
  {
   "cell_type": "code",
   "execution_count": 10,
   "id": "9f936b55",
   "metadata": {},
   "outputs": [
    {
     "data": {
      "text/plain": [
       "(0, 28)"
      ]
     },
     "execution_count": 10,
     "metadata": {},
     "output_type": "execute_result"
    }
   ],
   "source": [
    "lung_function_fev1_outliers = get_outliers_iqr(patients_df, 'lung_function_fev1')\n",
    "lung_function_fev1_outliers.shape"
   ]
  },
  {
   "cell_type": "code",
   "execution_count": 11,
   "id": "cddfb37c",
   "metadata": {},
   "outputs": [
    {
     "data": {
      "text/plain": [
       "(0, 28)"
      ]
     },
     "execution_count": 11,
     "metadata": {},
     "output_type": "execute_result"
    }
   ],
   "source": [
    "lung_function_fev1_outliers = get_outliers_iqr(patients_df, 'lung_function_fvc')\n",
    "lung_function_fev1_outliers.shape"
   ]
  },
  {
   "cell_type": "markdown",
   "id": "0a5a004e",
   "metadata": {},
   "source": [
    "## FEV1/FVC ratio\n",
    "\n",
    "The FEV1/FVC ratio is the ratio of the forced expiratory volume in the first one second to the forced vital capacity of the lungs. The normal value for this ratio is above $.85$, though this is age dependent.\n",
    "\n",
    "**FEV1/FVC Ratio Severity of Condition**: Under 70% Mild, 60 to 69% Moderate, 50 to 9% Moderately severe, 35 to 49% Severe, Under 34% Very severe.\n",
    "\n",
    "Extreme values should not exceed 120%. Therefore, should be excluded as data error."
   ]
  },
  {
   "cell_type": "code",
   "execution_count": 12,
   "id": "c870df9a",
   "metadata": {},
   "outputs": [
    {
     "data": {
      "text/plain": [
       "count    2392.000000\n",
       "mean        0.788666\n",
       "std         0.440339\n",
       "min         0.171552\n",
       "25%         0.470483\n",
       "50%         0.676843\n",
       "75%         0.981560\n",
       "max         2.577281\n",
       "Name: fev1_fvc_ratio, dtype: float64"
      ]
     },
     "execution_count": 12,
     "metadata": {},
     "output_type": "execute_result"
    }
   ],
   "source": [
    "# Creating a new variable for FEV1/FVC ratio\n",
    "patients_df['fev1_fvc_ratio'] = patients_df['lung_function_fev1'].astype(float) / patients_df['lung_function_fvc'].astype(float)\n",
    "patients_df['fev1_fvc_ratio'].describe()"
   ]
  },
  {
   "cell_type": "code",
   "execution_count": 13,
   "id": "7e21d5d3",
   "metadata": {},
   "outputs": [
    {
     "data": {
      "image/png": "[encoded data removed]",
      "text/plain": [
       "<Figure size 640x480 with 1 Axes>"
      ]
     },
     "metadata": {},
     "output_type": "display_data"
    }
   ],
   "source": [
    "# Plot the distribution of the fev1_fvc_ratio\n",
    "plt.hist(patients_df['fev1_fvc_ratio'], bins=20, edgecolor='black')\n",
    "plt.title('Everything above 1.2 is a data error')\n",
    "plt.xlabel('FEV1/FVC ratio')\n",
    "plt.ylabel('Frequency')\n",
    "plt.axvline(x=1.2, color='red', linestyle='--')\n",
    "plt.xticks([0.2, 0.4,0.6, 0.8, 1, 1.2, 1.5, 2.0, 2.5])\n",
    "plt.show()"
   ]
  },
  {
   "cell_type": "markdown",
   "id": "b4931e98",
   "metadata": {},
   "source": [
    "* **OBSERVATION**: We have extremely high values (exceeding $1.20$). Hence, we need to remove them."
   ]
  },
  {
   "cell_type": "code",
   "execution_count": 14,
   "id": "ef516cf9",
   "metadata": {},
   "outputs": [
    {
     "data": {
      "image/png": "[encoded data removed]",
      "text/plain": [
       "<Figure size 1000x400 with 1 Axes>"
      ]
     },
     "metadata": {},
     "output_type": "display_data"
    }
   ],
   "source": [
    "# Plotting boxplot for FEV1/FVC ratio to identify outliers\n",
    "plt.figure(figsize=(10, 4))\n",
    "plt.boxplot(patients_df['fev1_fvc_ratio'], vert=False)\n",
    "plt.xlabel('FEV1/FVC Ratio')\n",
    "plt.title('Boxplot of FEV1/FVC Ratio')\n",
    "plt.grid(axis='x', linestyle='--', alpha=0.7)\n",
    "plt.show()"
   ]
  },
  {
   "cell_type": "markdown",
   "id": "d6aa5a55",
   "metadata": {},
   "source": [
    "Let's check what part of these ratios are actually outliers (not feeling guilty about removing them) :D"
   ]
  },
  {
   "cell_type": "code",
   "execution_count": 15,
   "id": "7d11fe32",
   "metadata": {},
   "outputs": [
    {
     "name": "stdout",
     "output_type": "stream",
     "text": [
      "Number of outliers: 106\n"
     ]
    }
   ],
   "source": [
    "fev1_fvc_ratio_outliers = get_outliers_iqr(patients_df, 'fev1_fvc_ratio')\n",
    "print(f\"Number of outliers: {fev1_fvc_ratio_outliers.shape[0]}\")"
   ]
  },
  {
   "cell_type": "code",
   "execution_count": 16,
   "id": "5e9de3e7",
   "metadata": {},
   "outputs": [
    {
     "name": "stdout",
     "output_type": "stream",
     "text": [
      "Number of extremely high ratios: 375\n"
     ]
    }
   ],
   "source": [
    "print(f\"Number of extremely high ratios: {patients_df[patients_df['fev1_fvc_ratio'] > 1.2].shape[0]}\")"
   ]
  },
  {
   "cell_type": "markdown",
   "id": "8c7b57d6",
   "metadata": {},
   "source": [
    "Let's drop these rows. :("
   ]
  },
  {
   "cell_type": "code",
   "execution_count": 17,
   "id": "92733a50",
   "metadata": {},
   "outputs": [
    {
     "data": {
      "text/plain": [
       "(2017, 28)"
      ]
     },
     "execution_count": 17,
     "metadata": {},
     "output_type": "execute_result"
    }
   ],
   "source": [
    "# Dropping the rows where FEV1_FVC_ratio is greater than 1.2\n",
    "patients_df = patients_df[patients_df['fev1_fvc_ratio'] <= 1.2]\n",
    "patients_df.shape"
   ]
  },
  {
   "cell_type": "code",
   "execution_count": 18,
   "id": "87f293c7",
   "metadata": {},
   "outputs": [
    {
     "data": {
      "image/png": "[encoded data removed]",
      "text/plain": [
       "<Figure size 1000x400 with 1 Axes>"
      ]
     },
     "metadata": {},
     "output_type": "display_data"
    }
   ],
   "source": [
    "# Plotting boxplot for FEV1/FVC ratio to identify outliers\n",
    "plt.figure(figsize=(10, 4))\n",
    "plt.boxplot(patients_df['fev1_fvc_ratio'], vert=False)\n",
    "plt.xlabel('FEV1/FVC Ratio')\n",
    "plt.title('Boxplot of FEV1/FVC Ratio')\n",
    "plt.grid(axis='x', linestyle='--', alpha=0.7)\n",
    "plt.show()"
   ]
  },
  {
   "cell_type": "markdown",
   "id": "3e71374f",
   "metadata": {},
   "source": [
    "It looks good now! :)"
   ]
  },
  {
   "cell_type": "markdown",
   "id": "ecd895fb",
   "metadata": {},
   "source": [
    "## Persist output\n",
    "\n",
    "We should persist the current state of the dataframe to a file on the OS."
   ]
  },
  {
   "cell_type": "code",
   "execution_count": 19,
   "id": "efb71f43",
   "metadata": {},
   "outputs": [
    {
     "data": {
      "text/plain": [
       "(2017, 28)"
      ]
     },
     "execution_count": 19,
     "metadata": {},
     "output_type": "execute_result"
    }
   ],
   "source": [
    "patients_df.shape"
   ]
  },
  {
   "cell_type": "code",
   "execution_count": 20,
   "id": "2c839e4e",
   "metadata": {},
   "outputs": [],
   "source": [
    "to_csv(patients_df, '../data/03_data_cleaned.csv')"
   ]
  }
 ],
 "metadata": {
  "kernelspec": {
   "display_name": "Python 3",
   "language": "python",
   "name": "python3"
  },
  "language_info": {
   "codemirror_mode": {
    "name": "ipython",
    "version": 3
   },
   "file_extension": ".py",
   "mimetype": "text/x-python",
   "name": "python",
   "nbconvert_exporter": "python",
   "pygments_lexer": "ipython3",
   "version": "3.12.10"
  }
 },
 "nbformat": 4,
 "nbformat_minor": 5
}
